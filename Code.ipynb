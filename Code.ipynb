{
 "cells": [
  {
   "cell_type": "code",
   "execution_count": 33,
   "id": "c18349cb-475f-43fe-94c8-f136521bddae",
   "metadata": {},
   "outputs": [],
   "source": [
    "# you might have to download tensorflow if you don't have it\n",
    "#!pip install tensorflow"
   ]
  },
  {
   "cell_type": "code",
   "execution_count": 34,
   "id": "38839be7-4ac8-41e9-b2a7-8b9f1eb56d14",
   "metadata": {
    "scrolled": true
   },
   "outputs": [],
   "source": [
    "import tensorflow as tf"
   ]
  },
  {
   "cell_type": "code",
   "execution_count": 35,
   "id": "3cfbadc0-d0de-42b5-993b-e856ab6b5f11",
   "metadata": {},
   "outputs": [],
   "source": [
    "daily_sales_number = [21, 22, -108, 31, -2, 32, 34, 31]"
   ]
  },
  {
   "cell_type": "code",
   "execution_count": 36,
   "id": "e59461cb-4d67-4c66-9df2-892ad5888750",
   "metadata": {},
   "outputs": [
    {
     "data": {
      "text/plain": [
       "<_TensorSliceDataset element_spec=TensorSpec(shape=(), dtype=tf.int32, name=None)>"
      ]
     },
     "execution_count": 36,
     "metadata": {},
     "output_type": "execute_result"
    }
   ],
   "source": [
    "tf_dataset = tf.data.Dataset.from_tensor_slices(daily_sales_number)\n",
    "tf_dataset"
   ]
  },
  {
   "cell_type": "code",
   "execution_count": 37,
   "id": "ebb01d1e-34d6-459f-af2f-3585caac575c",
   "metadata": {},
   "outputs": [
    {
     "name": "stdout",
     "output_type": "stream",
     "text": [
      "21\n",
      "22\n",
      "-108\n",
      "31\n",
      "-2\n",
      "32\n",
      "34\n",
      "31\n"
     ]
    }
   ],
   "source": [
    "for sales in tf_dataset.as_numpy_iterator():\n",
    "    print(sales)"
   ]
  },
  {
   "cell_type": "code",
   "execution_count": 38,
   "id": "527bdd2b-6a39-4269-b507-412e81322d70",
   "metadata": {},
   "outputs": [
    {
     "name": "stdout",
     "output_type": "stream",
     "text": [
      "21\n",
      "22\n",
      "-108\n"
     ]
    }
   ],
   "source": [
    "for sales in tf_dataset.take(3):\n",
    "    print(sales.numpy())"
   ]
  },
  {
   "cell_type": "code",
   "execution_count": 39,
   "id": "93f92c4e-53eb-41f7-8a9f-6b04a0697b1e",
   "metadata": {},
   "outputs": [
    {
     "name": "stdout",
     "output_type": "stream",
     "text": [
      "21\n",
      "22\n",
      "31\n",
      "32\n",
      "34\n",
      "31\n"
     ]
    }
   ],
   "source": [
    "tf_dataset = tf_dataset.filter(lambda x: x>0)\n",
    "for sales in tf_dataset.as_numpy_iterator():\n",
    "    print(sales)"
   ]
  },
  {
   "cell_type": "code",
   "execution_count": 40,
   "id": "0da3312b-5db6-479c-b617-50f700d03fe8",
   "metadata": {},
   "outputs": [
    {
     "name": "stdout",
     "output_type": "stream",
     "text": [
      "1512\n",
      "1584\n",
      "2232\n",
      "2304\n",
      "2448\n",
      "2232\n"
     ]
    }
   ],
   "source": [
    "tf_dataset = tf_dataset.map(lambda x: x*72)\n",
    "for sales in tf_dataset.as_numpy_iterator():\n",
    "    print(sales)"
   ]
  },
  {
   "cell_type": "code",
   "execution_count": 41,
   "id": "412340a6-1048-4be4-a115-6c1f296da4a3",
   "metadata": {},
   "outputs": [
    {
     "name": "stdout",
     "output_type": "stream",
     "text": [
      "1512\n",
      "2232\n",
      "2232\n",
      "1584\n",
      "2448\n",
      "2304\n"
     ]
    }
   ],
   "source": [
    "tf_dataset = tf_dataset.shuffle(5)\n",
    "for sales in tf_dataset.as_numpy_iterator():\n",
    "    print(sales)"
   ]
  },
  {
   "cell_type": "markdown",
   "id": "4b9d3d6a-d754-4fcb-bcf6-96efe700d7ec",
   "metadata": {},
   "source": [
    "**We create a batch for our dataset**"
   ]
  },
  {
   "cell_type": "code",
   "execution_count": 42,
   "id": "2633292b-12ba-42a7-88f2-afd5e37a7409",
   "metadata": {},
   "outputs": [
    {
     "name": "stdout",
     "output_type": "stream",
     "text": [
      "[2232 2448 2304]\n",
      "[2232 1512 1584]\n"
     ]
    }
   ],
   "source": [
    "for sales_batch in tf_dataset.batch(3):\n",
    "    print(sales_batch.numpy())"
   ]
  },
  {
   "cell_type": "code",
   "execution_count": 64,
   "id": "7a078b83-6536-481d-a840-2e4af710c547",
   "metadata": {},
   "outputs": [
    {
     "name": "stdout",
     "output_type": "stream",
     "text": [
      "[18000 34560]\n",
      "[21600  8640]\n",
      "[10800]\n"
     ]
    }
   ],
   "source": [
    "import tensorflow as tf\n",
    "daily_sales_numbers = [120, 250, 0, 480, 300, 0, 150]\n",
    "tf_dataset = tf.data.Dataset.from_tensor_slices(daily_sales_numbers)\n",
    "tf_dataset = tf_dataset.filter(lambda x: x > 0) \\\n",
    "                       .map(lambda y: y * 72) \\\n",
    "                       .shuffle(2) \\\n",
    "                       .batch(2)\n",
    "for sales in tf_dataset.as_numpy_iterator():\n",
    "    print(sales)"
   ]
  },
  {
   "cell_type": "code",
   "execution_count": 46,
   "id": "ad9b6d08-7c64-4a5b-9ed5-729f67a83140",
   "metadata": {},
   "outputs": [
    {
     "name": "stdout",
     "output_type": "stream",
     "text": [
      "b'images/cats/cat0.jpg'\n",
      "b'images/cats/cat1.jpg'\n",
      "b'images/dogs/dog0.jpg'\n",
      "b'images/dogs/dog1.jpg'\n"
     ]
    }
   ],
   "source": [
    "import os\n",
    "from PIL import Image\n",
    "import numpy as np\n",
    "\n",
    "# Create folders\n",
    "os.makedirs(\"images/cats\", exist_ok=True)\n",
    "os.makedirs(\"images/dogs\", exist_ok=True)\n",
    "\n",
    "# Create 2 dummy images\n",
    "for i in range(2):\n",
    "    img = Image.fromarray(np.random.randint(0, 255, (64, 64, 3), dtype=np.uint8))\n",
    "    img.save(f\"images/cats/cat{i}.jpg\")\n",
    "    img.save(f\"images/dogs/dog{i}.jpg\")\n",
    "\n",
    "# Now this will work\n",
    "import tensorflow as tf\n",
    "images_ds = tf.data.Dataset.list_files('images/*/*', shuffle=False)\n",
    "\n",
    "for path in images_ds.as_numpy_iterator():\n",
    "    print(path)\n"
   ]
  },
  {
   "cell_type": "code",
   "execution_count": 47,
   "id": "2edb9a43-c0ed-4400-8bf6-95491974c9db",
   "metadata": {},
   "outputs": [],
   "source": [
    "images_ds = tf.data.Dataset.list_files('images/*/*', shuffle=False)"
   ]
  },
  {
   "cell_type": "code",
   "execution_count": 48,
   "id": "2163d810-0131-4916-89e4-6660b7e50fff",
   "metadata": {},
   "outputs": [
    {
     "data": {
      "text/plain": [
       "4"
      ]
     },
     "execution_count": 48,
     "metadata": {},
     "output_type": "execute_result"
    }
   ],
   "source": [
    "image_count = len(images_ds)\n",
    "image_count"
   ]
  },
  {
   "cell_type": "code",
   "execution_count": 49,
   "id": "b5181967-5223-4ab5-b875-6a3785dda37e",
   "metadata": {},
   "outputs": [
    {
     "data": {
      "text/plain": [
       "tensorflow.python.data.ops.from_tensor_slices_op._TensorSliceDataset"
      ]
     },
     "execution_count": 49,
     "metadata": {},
     "output_type": "execute_result"
    }
   ],
   "source": [
    "type(images_ds)"
   ]
  },
  {
   "cell_type": "code",
   "execution_count": 50,
   "id": "2e860784-62d1-47d6-a453-274fb17be995",
   "metadata": {},
   "outputs": [
    {
     "name": "stdout",
     "output_type": "stream",
     "text": [
      "b'images/cats/cat0.jpg'\n",
      "b'images/cats/cat1.jpg'\n",
      "b'images/dogs/dog0.jpg'\n"
     ]
    }
   ],
   "source": [
    "for file in images_ds.take(3):\n",
    "    print(file.numpy())"
   ]
  },
  {
   "cell_type": "code",
   "execution_count": 51,
   "id": "b18d294c-d96e-4c8e-8211-73cde1be84b5",
   "metadata": {},
   "outputs": [
    {
     "name": "stdout",
     "output_type": "stream",
     "text": [
      "b'images/cats/cat1.jpg'\n",
      "b'images/dogs/dog0.jpg'\n",
      "b'images/cats/cat0.jpg'\n"
     ]
    }
   ],
   "source": [
    "images_ds = images_ds.shuffle(200)\n",
    "for file in images_ds.take(3):\n",
    "    print(file.numpy())"
   ]
  },
  {
   "cell_type": "code",
   "execution_count": 52,
   "id": "598dd413-c0fb-4851-a268-61274f082140",
   "metadata": {},
   "outputs": [],
   "source": [
    "class_names = [\"cat\",\"dog\"]"
   ]
  },
  {
   "cell_type": "code",
   "execution_count": 53,
   "id": "b58a9466-7edb-47bd-8ad3-d18be7a6eed8",
   "metadata": {},
   "outputs": [],
   "source": [
    "train_size = int(image_count*0.8)\n",
    "train_ds = images_ds.take(train_size)\n",
    "test_ds = images_ds.skip(train_size)"
   ]
  },
  {
   "cell_type": "code",
   "execution_count": 54,
   "id": "82bb1f6f-95c3-4695-923e-ec444ec110af",
   "metadata": {},
   "outputs": [
    {
     "data": {
      "text/plain": [
       "3"
      ]
     },
     "execution_count": 54,
     "metadata": {},
     "output_type": "execute_result"
    }
   ],
   "source": [
    "len(train_ds)"
   ]
  },
  {
   "cell_type": "code",
   "execution_count": 55,
   "id": "d02f1b57-3c11-4318-ae82-4435d08f4fdb",
   "metadata": {},
   "outputs": [
    {
     "data": {
      "text/plain": [
       "1"
      ]
     },
     "execution_count": 55,
     "metadata": {},
     "output_type": "execute_result"
    }
   ],
   "source": [
    "len(test_ds)"
   ]
  },
  {
   "cell_type": "code",
   "execution_count": 56,
   "id": "9c751e89-96af-4821-8bd0-99bbfeb69f34",
   "metadata": {},
   "outputs": [],
   "source": [
    "def get_label(file_path):\n",
    "    import os\n",
    "    parts = tf.strings.split(file_path, os.path.sep)\n",
    "    return parts[-2]"
   ]
  },
  {
   "cell_type": "code",
   "execution_count": 59,
   "id": "03d8f253-74fc-4282-a59c-2b3c66ea5ce2",
   "metadata": {},
   "outputs": [
    {
     "data": {
      "text/plain": [
       "<tf.Tensor: shape=(), dtype=string, numpy=b'dog'>"
      ]
     },
     "execution_count": 59,
     "metadata": {},
     "output_type": "execute_result"
    }
   ],
   "source": [
    "get_label(\"images/dog/20 Reasons Why Cats Make the Best Pets....jpg\")"
   ]
  },
  {
   "cell_type": "code",
   "execution_count": 60,
   "id": "51faceb0-f091-47a6-8a04-3261462c93e7",
   "metadata": {},
   "outputs": [],
   "source": [
    "def process_image(file_path):\n",
    "    label = get_label(file_path)\n",
    "    img = tf.io.read_file(file_path) # load the raw data from the file as a string\n",
    "    img = tf.image.decode_jpeg(img)\n",
    "    img = tf.image.resize(img, [128, 128])\n",
    "    return img, label"
   ]
  },
  {
   "cell_type": "code",
   "execution_count": 68,
   "id": "6ebb15c7-11c6-43fa-9621-88f1801f075e",
   "metadata": {},
   "outputs": [],
   "source": [
    "import os\n",
    "import numpy as np\n",
    "from PIL import Image\n",
    "\n",
    "# Create folders\n",
    "os.makedirs(\"images/dog\", exist_ok=True)\n",
    "os.makedirs(\"images/cat\", exist_ok=True)\n",
    "\n",
    "# Create and save dummy images\n",
    "for i in range(2):\n",
    "    img = Image.fromarray(np.random.randint(0, 255, (128, 128, 3), dtype=np.uint8))\n",
    "    img.save(f\"images/dog/dog{i}.jpg\")\n",
    "    img.save(f\"images/cat/cat{i}.jpg\")"
   ]
  },
  {
   "cell_type": "code",
   "execution_count": 70,
   "id": "3c500943-c2ac-45f8-9008-fcdf59c43cd3",
   "metadata": {},
   "outputs": [],
   "source": [
    "def process_image(file_path, label):\n",
    "    img = tf.io.read_file(file_path)\n",
    "    img = tf.image.decode_jpeg(img, channels=3)\n",
    "    img = tf.image.resize(img, [128, 128])\n",
    "    return img, label"
   ]
  },
  {
   "cell_type": "code",
   "execution_count": 71,
   "id": "23f13afe-f04e-4dc9-9bf9-f14d5b80f87f",
   "metadata": {},
   "outputs": [],
   "source": [
    "def scale(image, label):\n",
    "    return image/255, label"
   ]
  },
  {
   "cell_type": "code",
   "execution_count": 72,
   "id": "c2b480cc-4f8b-4820-934e-73a16b9f8c76",
   "metadata": {},
   "outputs": [],
   "source": [
    "train_ds = train_ds.map(scale)"
   ]
  },
  {
   "cell_type": "code",
   "execution_count": 76,
   "id": "d674e19b-1b5a-4c2b-a38c-35f4900457f2",
   "metadata": {},
   "outputs": [
    {
     "name": "stdout",
     "output_type": "stream",
     "text": [
      "****Image:  [0.5372549 0.7176471 0.5372549]\n",
      "****Label:  b'cats'\n",
      "****Image:  [0.80784315 0.8784314  0.4392157 ]\n",
      "****Label:  b'dogs'\n",
      "****Image:  [0.5372549 0.7176471 0.5372549]\n",
      "****Label:  b'dogs'\n"
     ]
    },
    {
     "name": "stderr",
     "output_type": "stream",
     "text": [
      "2025-10-16 17:16:19.808917: I tensorflow/core/framework/local_rendezvous.cc:407] Local rendezvous is aborting with status: OUT_OF_RANGE: End of sequence\n"
     ]
    }
   ],
   "source": [
    "for image, label in train_ds.take(5):\n",
    "    print(\"****Image: \",image.numpy()[0][0])\n",
    "    print(\"****Label: \",label.numpy())"
   ]
  },
  {
   "cell_type": "code",
   "execution_count": null,
   "id": "34461bcf-8509-4390-82b3-3757d4abc765",
   "metadata": {},
   "outputs": [],
   "source": []
  }
 ],
 "metadata": {
  "kernelspec": {
   "display_name": "Python 3 (ipykernel)",
   "language": "python",
   "name": "python3"
  },
  "language_info": {
   "codemirror_mode": {
    "name": "ipython",
    "version": 3
   },
   "file_extension": ".py",
   "mimetype": "text/x-python",
   "name": "python",
   "nbconvert_exporter": "python",
   "pygments_lexer": "ipython3",
   "version": "3.13.3"
  }
 },
 "nbformat": 4,
 "nbformat_minor": 5
}
